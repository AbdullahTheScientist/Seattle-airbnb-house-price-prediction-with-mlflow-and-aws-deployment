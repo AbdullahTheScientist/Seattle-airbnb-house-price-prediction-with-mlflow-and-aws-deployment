{
 "cells": [
  {
   "cell_type": "code",
   "execution_count": 16,
   "metadata": {},
   "outputs": [
    {
     "data": {
      "text/plain": [
       "'d:\\\\ml\\\\end_to_end_airbnb_machine_learning_project\\\\Seattle-airbnb-house-price-prediction-with-mlflow-and-aws-deployment'"
      ]
     },
     "execution_count": 16,
     "metadata": {},
     "output_type": "execute_result"
    }
   ],
   "source": [
    "%pwd"
   ]
  },
  {
   "cell_type": "code",
   "execution_count": 17,
   "metadata": {},
   "outputs": [
    {
     "data": {
      "text/plain": [
       "'d:\\\\ml\\\\end_to_end_airbnb_machine_learning_project\\\\Seattle-airbnb-house-price-prediction-with-mlflow-and-aws-deployment'"
      ]
     },
     "execution_count": 17,
     "metadata": {},
     "output_type": "execute_result"
    }
   ],
   "source": [
    "import os\n",
    "os.chdir(\"d:\\\\ml\\\\end_to_end_airbnb_machine_learning_project\\\\Seattle-airbnb-house-price-prediction-with-mlflow-and-aws-deployment\")\n",
    "%pwd"
   ]
  },
  {
   "cell_type": "code",
   "execution_count": 18,
   "metadata": {},
   "outputs": [],
   "source": [
    "from dataclasses import dataclass\n",
    "from pathlib import Path\n",
    "\n",
    "@dataclass(frozen=True)\n",
    "class DataTransformationConfig:\n",
    "    root_dir: Path\n",
    "    data_path: Path\n",
    "    "
   ]
  },
  {
   "cell_type": "code",
   "execution_count": 19,
   "metadata": {},
   "outputs": [],
   "source": [
    "from mlProject.constants import *\n",
    "from mlProject.utils.common import read_yaml, create_directories"
   ]
  },
  {
   "cell_type": "code",
   "execution_count": 20,
   "metadata": {},
   "outputs": [],
   "source": [
    "class ConfigurationManager:\n",
    "    def __init__(\n",
    "        self,\n",
    "        config_filepath = CONFIG_FILE_PATH,\n",
    "        params_filepath = PARAMS_FILE_PATH,\n",
    "        schema_filepath = SCHEMA_FILE_PATH):\n",
    "\n",
    "        self.config = read_yaml(config_filepath)\n",
    "        self.params = read_yaml(params_filepath)\n",
    "        self.schema = read_yaml(schema_filepath)\n",
    "\n",
    "        create_directories([self.config.artifacts_root])\n",
    "\n",
    "        \n",
    "\n",
    "    def get_data_transformation_config(self) -> DataTransformationConfig:\n",
    "        config = self.config.data_transformation\n",
    "\n",
    "        create_directories([config.root_dir])\n",
    "\n",
    "        data_transformation_config = DataTransformationConfig(\n",
    "            root_dir=config.root_dir,\n",
    "            data_path=config.data_path,\n",
    "        )\n",
    "\n",
    "        return data_transformation_config"
   ]
  },
  {
   "cell_type": "code",
   "execution_count": 21,
   "metadata": {},
   "outputs": [],
   "source": [
    "import os\n",
    "from mlProject import logger\n",
    "from sklearn.model_selection import train_test_split\n",
    "import pandas as pd\n",
    "from sklearn.preprocessing import LabelEncoder\n",
    "import joblib\n"
   ]
  },
  {
   "cell_type": "code",
   "execution_count": 22,
   "metadata": {},
   "outputs": [],
   "source": [
    "class DataTransformation:\n",
    "    def __init__(self, config):\n",
    "        self.config = config\n",
    "\n",
    "    def train_test_spliting(self):\n",
    "        # Load data\n",
    "        data = pd.read_csv(self.config.data_path)\n",
    "\n",
    "        # Drop the first two columns\n",
    "        data = data.drop(columns=data.columns[:2])  # Dropping the first two columns\n",
    "\n",
    "        # Encode categorical features\n",
    "        categorical_columns = data.select_dtypes(include=['object']).columns  # Adjust if needed\n",
    "        label_encoders = {}\n",
    "        for column in categorical_columns:\n",
    "            le = LabelEncoder()\n",
    "            data[column] = le.fit_transform(data[column].astype(str))\n",
    "            label_encoders[column] = le  # Save encoder for later use\n",
    "\n",
    "        # Save encoders using joblib for future use\n",
    "        encoder_save_path = os.path.join(self.config.root_dir, \"label_encoders.joblib\")\n",
    "        joblib.dump(label_encoders, encoder_save_path)\n",
    "        logger.info(f\"Saved label encoders to {encoder_save_path}\")\n",
    "\n",
    "        logger.info(\"Encoded categorical features\")\n",
    "        logger.info(f\"Categorical columns: {list(categorical_columns)}\")\n",
    "\n",
    "        # Split into train and test\n",
    "        train_data, test_data = train_test_split(data, test_size=0.2, random_state=42)\n",
    "\n",
    "        # Save to CSV\n",
    "        train_data.to_csv(os.path.join(self.config.root_dir, \"train.csv\"), index=False)\n",
    "        test_data.to_csv(os.path.join(self.config.root_dir, \"test.csv\"), index=False)\n",
    "\n",
    "        logger.info(\"Split data into train and test\")\n",
    "        logger.info(f\"Train data: {train_data.shape}\")\n",
    "        logger.info(f\"Test data: {test_data.shape}\")\n"
   ]
  },
  {
   "cell_type": "code",
   "execution_count": 23,
   "metadata": {},
   "outputs": [
    {
     "name": "stdout",
     "output_type": "stream",
     "text": [
      "[2024-12-04 15:41:48,926: INFO: common: yaml file: config\\config.yaml loaded successfully]\n",
      "[2024-12-04 15:41:48,930: INFO: common: yaml file: params.yaml loaded successfully]\n",
      "[2024-12-04 15:41:48,935: INFO: common: yaml file: schema.yaml loaded successfully]\n",
      "[2024-12-04 15:41:48,938: INFO: common: created directory at: artifacts]\n",
      "[2024-12-04 15:41:48,940: INFO: common: created directory at: artifacts/data_transformation]\n",
      "[2024-12-04 15:41:48,996: INFO: 3947289495: Saved label encoders to artifacts/data_transformation\\label_encoders.joblib]\n",
      "[2024-12-04 15:41:48,997: INFO: 3947289495: Encoded categorical features]\n",
      "[2024-12-04 15:41:48,997: INFO: 3947289495: Categorical columns: ['fuel', 'seller_type', 'transmission', 'owner']]\n",
      "[2024-12-04 15:41:49,049: INFO: 3947289495: Split data into train and test]\n",
      "[2024-12-04 15:41:49,049: INFO: 3947289495: Train data: (6502, 11)]\n",
      "[2024-12-04 15:41:49,049: INFO: 3947289495: Test data: (1626, 11)]\n"
     ]
    }
   ],
   "source": [
    "try:\n",
    "    config = ConfigurationManager()\n",
    "    data_transformation_config = config.get_data_transformation_config()\n",
    "    data_transformation = DataTransformation(config=data_transformation_config)\n",
    "    data_transformation.train_test_spliting()\n",
    "except Exception as e:\n",
    "    raise e"
   ]
  }
 ],
 "metadata": {
  "kernelspec": {
   "display_name": "test_env",
   "language": "python",
   "name": "python3"
  },
  "language_info": {
   "codemirror_mode": {
    "name": "ipython",
    "version": 3
   },
   "file_extension": ".py",
   "mimetype": "text/x-python",
   "name": "python",
   "nbconvert_exporter": "python",
   "pygments_lexer": "ipython3",
   "version": "3.10.15"
  }
 },
 "nbformat": 4,
 "nbformat_minor": 2
}
