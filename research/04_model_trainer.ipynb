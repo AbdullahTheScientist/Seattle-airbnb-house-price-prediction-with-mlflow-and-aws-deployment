{
 "cells": [
  {
   "cell_type": "code",
   "execution_count": 89,
   "metadata": {},
   "outputs": [
    {
     "data": {
      "text/plain": [
       "'d:\\\\ml\\\\end_to_end_airbnb_machine_learning_project\\\\Seattle-airbnb-house-price-prediction-with-mlflow-and-aws-deployment'"
      ]
     },
     "execution_count": 89,
     "metadata": {},
     "output_type": "execute_result"
    }
   ],
   "source": [
    "%pwd"
   ]
  },
  {
   "cell_type": "code",
   "execution_count": 90,
   "metadata": {},
   "outputs": [
    {
     "data": {
      "text/plain": [
       "'d:\\\\ml\\\\end_to_end_airbnb_machine_learning_project\\\\Seattle-airbnb-house-price-prediction-with-mlflow-and-aws-deployment'"
      ]
     },
     "execution_count": 90,
     "metadata": {},
     "output_type": "execute_result"
    }
   ],
   "source": [
    "import os\n",
    "os.chdir(\"d:\\\\ml\\\\end_to_end_airbnb_machine_learning_project\\\\Seattle-airbnb-house-price-prediction-with-mlflow-and-aws-deployment\")\n",
    "\n",
    "%pwd"
   ]
  },
  {
   "cell_type": "code",
   "execution_count": 91,
   "metadata": {},
   "outputs": [],
   "source": [
    "from dataclasses import dataclass\n",
    "from pathlib import Path\n",
    "\n",
    "@dataclass(frozen=True)\n",
    "class ModelTrainerConfig:\n",
    "    root_dir: Path\n",
    "    train_data_path: Path\n",
    "    test_data_path: Path\n",
    "    model_name: str\n",
    "    n_estimators: int\n",
    "    max_depth: int\n",
    "    max_features: str\n",
    "    random_state: int\n",
    "    target_column: str  \n"
   ]
  },
  {
   "cell_type": "code",
   "execution_count": 92,
   "metadata": {},
   "outputs": [],
   "source": [
    "from mlProject.constants import *\n",
    "from mlProject.utils.common import read_yaml, create_directories"
   ]
  },
  {
   "cell_type": "code",
   "execution_count": 93,
   "metadata": {},
   "outputs": [],
   "source": [
    "class ConfigurationManager:\n",
    "    def __init__(\n",
    "        self,\n",
    "        config_filepath = CONFIG_FILE_PATH,\n",
    "        params_filepath = PARAMS_FILE_PATH,\n",
    "        schema_filepath = SCHEMA_FILE_PATH):\n",
    "\n",
    "        self.config = read_yaml(config_filepath)\n",
    "        self.params = read_yaml(params_filepath)\n",
    "        self.schema = read_yaml(schema_filepath)\n",
    "\n",
    "        create_directories([self.config.artifacts_root])\n",
    "\n",
    "\n",
    "    def get_model_trainer_config(self) -> ModelTrainerConfig:\n",
    "        config = self.config.model_trainer\n",
    "        params = self.params.RandomForestRegressor\n",
    "        schema =  self.schema.TARGET_COLUMN\n",
    "\n",
    "        create_directories([config.root_dir])\n",
    "\n",
    "        model_trainer_config = ModelTrainerConfig(\n",
    "            root_dir=config.root_dir,\n",
    "            train_data_path = config.train_data_path,\n",
    "            test_data_path = config.test_data_path,\n",
    "            model_name = config.model_name,\n",
    "            n_estimators = params.n_estimators,\n",
    "            max_depth = params.max_depth,\n",
    "            max_features = params.max_features,\n",
    "            random_state = params.random_state,\n",
    "            target_column = schema.name\n",
    "            \n",
    "        )\n",
    "\n",
    "        return model_trainer_config"
   ]
  },
  {
   "cell_type": "code",
   "execution_count": 94,
   "metadata": {},
   "outputs": [],
   "source": [
    "import pandas as pd\n",
    "from sklearn.ensemble import RandomForestRegressor\n",
    "import os\n",
    "from mlProject import logger\n",
    "import joblib"
   ]
  },
  {
   "cell_type": "code",
   "execution_count": 95,
   "metadata": {},
   "outputs": [
    {
     "name": "stdout",
     "output_type": "stream",
     "text": [
      "[2024-12-04 16:43:03,226: INFO: common: yaml file: config\\config.yaml loaded successfully]\n",
      "[2024-12-04 16:43:03,230: INFO: common: yaml file: params.yaml loaded successfully]\n",
      "[2024-12-04 16:43:03,233: INFO: common: yaml file: schema.yaml loaded successfully]\n",
      "[2024-12-04 16:43:03,233: INFO: common: created directory at: artifacts]\n",
      "[2024-12-04 16:43:03,237: INFO: common: created directory at: artifacts/model_trainer]\n",
      "[2024-12-04 16:43:03,765: INFO: 912053770: Model saved at artifacts/model_trainer\\model.joblib]\n"
     ]
    }
   ],
   "source": [
    "class ModelTrainer:\n",
    "    def __init__(self, config: ModelTrainerConfig):\n",
    "        self.config = config\n",
    "\n",
    "    def train(self):\n",
    "        train_data = pd.read_csv(self.config.train_data_path)\n",
    "        test_data = pd.read_csv(self.config.test_data_path)\n",
    "\n",
    "        X_train = train_data.drop([self.config.target_column], axis=1)\n",
    "        Y_train = train_data[[self.config.target_column]].values.ravel()\n",
    "\n",
    "        X_test = test_data.drop([self.config.target_column], axis=1)\n",
    "        Y_test = test_data[[self.config.target_column]].values.ravel()\n",
    "\n",
    "        rf = RandomForestRegressor(\n",
    "            n_estimators=self.config.n_estimators,\n",
    "            max_depth=self.config.max_depth,\n",
    "            max_features=self.config.max_features,\n",
    "            random_state=self.config.random_state\n",
    "        )\n",
    "\n",
    "        rf.fit(X_train, Y_train)\n",
    "\n",
    "        joblib.dump(rf, os.path.join(self.config.root_dir, self.config.model_name))\n",
    "        logger.info(f\"Model saved at {os.path.join(self.config.root_dir, self.config.model_name)}\")\n",
    "\n",
    "try:\n",
    "    config = ConfigurationManager()\n",
    "    model_trainer_config = config.get_model_trainer_config()\n",
    "    model_trainer_config = ModelTrainer(config=model_trainer_config)\n",
    "    model_trainer_config.train()\n",
    "except Exception as e:\n",
    "    raise e"
   ]
  },
  {
   "cell_type": "code",
   "execution_count": 96,
   "metadata": {},
   "outputs": [
    {
     "name": "stdout",
     "output_type": "stream",
     "text": [
      "[2024-12-04 16:43:03,787: INFO: common: yaml file: config\\config.yaml loaded successfully]\n",
      "[2024-12-04 16:43:03,795: INFO: common: yaml file: params.yaml loaded successfully]\n",
      "[2024-12-04 16:43:03,799: INFO: common: yaml file: schema.yaml loaded successfully]\n",
      "[2024-12-04 16:43:03,801: INFO: common: created directory at: artifacts]\n",
      "[2024-12-04 16:43:03,803: INFO: common: created directory at: artifacts/model_trainer]\n",
      "[2024-12-04 16:43:04,348: INFO: 912053770: Model saved at artifacts/model_trainer\\model.joblib]\n"
     ]
    }
   ],
   "source": [
    "try:\n",
    "    config = ConfigurationManager()\n",
    "    model_trainer_config = config.get_model_trainer_config()\n",
    "    model_trainer_config = ModelTrainer(config=model_trainer_config)\n",
    "    model_trainer_config.train()\n",
    "except Exception as e:\n",
    "    raise e"
   ]
  },
  {
   "cell_type": "code",
   "execution_count": null,
   "metadata": {},
   "outputs": [],
   "source": []
  }
 ],
 "metadata": {
  "kernelspec": {
   "display_name": "test_env",
   "language": "python",
   "name": "python3"
  },
  "language_info": {
   "codemirror_mode": {
    "name": "ipython",
    "version": 3
   },
   "file_extension": ".py",
   "mimetype": "text/x-python",
   "name": "python",
   "nbconvert_exporter": "python",
   "pygments_lexer": "ipython3",
   "version": "3.10.15"
  }
 },
 "nbformat": 4,
 "nbformat_minor": 2
}
